{
 "cells": [
  {
   "cell_type": "markdown",
   "metadata": {},
   "source": [
    "# Tarefa 01\n",
    "\n",
    "- Leia os enunciados com atenção\n",
    "- Saiba que pode haver mais de uma resposta correta\n",
    "- Insira novas células de código sempre que achar necessário\n",
    "- Em caso de dúvidas, procure os tutores\n",
    "- Divirta-se :)\n",
    "\n",
    "#### 1)  crie uma série do pandas a partir de uma lista com os dados abaixo:\n",
    "\n",
    "Em um estudo sobre alteração na tempreatura global, A NASA disponibiliza dados de diferenças de de temperatura média da superfície terrestre relativos às médias de temperatura entre 1951 e 1980. Os dados originais podem ser vistos no site da NASA/GISS, e estão dispostos a cada década na tabela abaixo.\n",
    "\n",
    "|ano|anomalia termica|\n",
    "|:-:|:----:|\n",
    "| 1900 | -0.08 |\n",
    "| 1920 | -0.27 |\n",
    "| 1940 | 0.12 |\n",
    "| 1960 | -0.03 |\n",
    "| 1980 | 0.26 |\n",
    "| 2000 | 0.40 |\n",
    "| 2020 | 1.02 |\n",
    "\n",
    "Crie uma séries do Pandas a partir de uma lista com esses dados."
   ]
  },
  {
   "cell_type": "code",
   "execution_count": 11,
   "metadata": {},
   "outputs": [],
   "source": [
    "import pandas as pd\n",
    "import numpy as np\n",
    "\n",
    "# Seu código aqui\n"
   ]
  },
  {
   "cell_type": "code",
   "execution_count": 14,
   "metadata": {},
   "outputs": [
    {
     "name": "stdout",
     "output_type": "stream",
     "text": [
      "{'ano': [1900, 1920, 1940, 1960, 1980, 2000, 2020], 'anomalia_termica': [-0.08, -0.27, 0.12, -0.03, 0.26, 0.4, 1.02]}\n"
     ]
    }
   ],
   "source": [
    "\n",
    "dados = {'ano': [1900, 1920, 1940, 1960, 1980, 2000, 2020],\n",
    "         'anomalia_termica': [-0.08, -0.27, 0.12, -0.03, 0.26, 0.40, 1.02]}\n",
    "\n",
    "print(dados)"
   ]
  },
  {
   "cell_type": "markdown",
   "metadata": {},
   "source": [
    "#### 2) Coloque os anos nos índices conforme a tabela."
   ]
  },
  {
   "cell_type": "code",
   "execution_count": 15,
   "metadata": {},
   "outputs": [
    {
     "name": "stdout",
     "output_type": "stream",
     "text": [
      "1900   -0.08\n",
      "1920   -0.27\n",
      "1940    0.12\n",
      "1960   -0.03\n",
      "1980    0.26\n",
      "2000    0.40\n",
      "2020    1.02\n",
      "dtype: float64\n"
     ]
    }
   ],
   "source": [
    "\n",
    "# seu código aqui\n",
    "serie_temperatura = pd.Series(dados['anomalia_termica'], index=dados['ano'])\n",
    "\n",
    "print(serie_temperatura)"
   ]
  },
  {
   "cell_type": "markdown",
   "metadata": {},
   "source": [
    "#### 3) A partir do dicionário abaixo, crie uma séries do Pandas:"
   ]
  },
  {
   "cell_type": "code",
   "execution_count": 16,
   "metadata": {},
   "outputs": [
    {
     "name": "stdout",
     "output_type": "stream",
     "text": [
      "1900   -0.08\n",
      "1920   -0.27\n",
      "1940    0.12\n",
      "1960   -0.03\n",
      "1980    0.26\n",
      "2000    0.40\n",
      "2020    1.02\n",
      "dtype: float64\n"
     ]
    }
   ],
   "source": [
    "dic_temperaturas = {1900: -.08, 1920: -.27, 1940: .12, 1960: -.03, 1980: .26, 2000: .40, 2020: 1.02}\n",
    "\n",
    "# seu código aqui\n",
    "\n",
    "serie_temperatura_dic = pd.Series(dic_temperaturas)\n",
    "print(serie_temperatura_dic)\n"
   ]
  },
  {
   "cell_type": "markdown",
   "metadata": {},
   "source": [
    "#### 4) Transforme o ndarray abaixo em um dataframe. \n",
    "O numpy é capaz de gerar arrays n-dimensionais com números pseudo-aleatórios de acordo com uma variedade de distribuições, como no exemplo abaixo. Transforme esse nd-array em um DataFrame."
   ]
  },
  {
   "cell_type": "code",
   "execution_count": 20,
   "metadata": {},
   "outputs": [
    {
     "name": "stdout",
     "output_type": "stream",
     "text": [
      "             0           1           2\n",
      "0    86.329114  105.244902   95.138175\n",
      "1    96.224418   83.490029  103.314883\n",
      "2   103.492467   95.830089   92.490379\n",
      "3   108.380181   80.665402   94.618383\n",
      "4    77.891415  104.238690  108.167471\n",
      "5    81.401792   85.824208  115.824524\n",
      "6    85.766398  102.469210  101.724735\n",
      "7    85.580050  110.800436   81.782559\n",
      "8   102.397824  100.339597   96.390530\n",
      "9   108.780890   83.295663   91.431530\n",
      "10   84.652115   98.063068   94.497213\n",
      "11   95.920178  110.840688  114.660184\n",
      "12  114.469079  114.318523   94.994445\n",
      "13  105.303168   90.955370  110.755445\n",
      "14   84.482641  108.838782   94.687016\n",
      "15  105.036178   98.174588   86.836862\n",
      "16  105.955074  102.977915  107.920910\n",
      "17   97.577915   97.785985  119.960365\n",
      "18  105.635542   98.986286   85.503976\n",
      "19  101.498218  110.054846  101.138110\n"
     ]
    }
   ],
   "source": [
    "arr = np.random.normal(100, 10, (20,3))\n",
    "\n",
    "# seu código aqui\n",
    "\n",
    "df = pd.DataFrame(arr)\n",
    "\n",
    "print(df)"
   ]
  },
  {
   "cell_type": "markdown",
   "metadata": {},
   "source": [
    "#### 5) Nomeie os índices das linhas com inteiros de 1 a 20, e as colunas com os nomes \"x1\", \"x2\", e \"x3\" respectivamente."
   ]
  },
  {
   "cell_type": "code",
   "execution_count": 22,
   "metadata": {},
   "outputs": [
    {
     "name": "stdout",
     "output_type": "stream",
     "text": [
      "            x1          x2          x3\n",
      "1    86.329114  105.244902   95.138175\n",
      "2    96.224418   83.490029  103.314883\n",
      "3   103.492467   95.830089   92.490379\n",
      "4   108.380181   80.665402   94.618383\n",
      "5    77.891415  104.238690  108.167471\n",
      "6    81.401792   85.824208  115.824524\n",
      "7    85.766398  102.469210  101.724735\n",
      "8    85.580050  110.800436   81.782559\n",
      "9   102.397824  100.339597   96.390530\n",
      "10  108.780890   83.295663   91.431530\n",
      "11   84.652115   98.063068   94.497213\n",
      "12   95.920178  110.840688  114.660184\n",
      "13  114.469079  114.318523   94.994445\n",
      "14  105.303168   90.955370  110.755445\n",
      "15   84.482641  108.838782   94.687016\n",
      "16  105.036178   98.174588   86.836862\n",
      "17  105.955074  102.977915  107.920910\n",
      "18   97.577915   97.785985  119.960365\n",
      "19  105.635542   98.986286   85.503976\n",
      "20  101.498218  110.054846  101.138110\n"
     ]
    }
   ],
   "source": [
    "#seu código aqui\n",
    "df = pd.DataFrame(arr, columns=['x1', 'x2', 'x3'], index=range(1, 21))\n",
    "\n",
    "print(df)"
   ]
  },
  {
   "cell_type": "markdown",
   "metadata": {},
   "source": [
    "#### 6) No DataFrame do exercício 5, crie uma nova coluna como sendo a média das três colunas, e dê a ela o nome de \"media\" (não recomendo colocar acentos em nomes de variáveis)."
   ]
  },
  {
   "cell_type": "code",
   "execution_count": 25,
   "metadata": {},
   "outputs": [
    {
     "name": "stdout",
     "output_type": "stream",
     "text": [
      "            x1          x2          x3  Media_Colunas\n",
      "1    86.329114  105.244902   95.138175      95.570730\n",
      "2    96.224418   83.490029  103.314883      94.343110\n",
      "3   103.492467   95.830089   92.490379      97.270978\n",
      "4   108.380181   80.665402   94.618383      94.554655\n",
      "5    77.891415  104.238690  108.167471      96.765859\n",
      "6    81.401792   85.824208  115.824524      94.350175\n",
      "7    85.766398  102.469210  101.724735      96.653448\n",
      "8    85.580050  110.800436   81.782559      92.721015\n",
      "9   102.397824  100.339597   96.390530      99.709317\n",
      "10  108.780890   83.295663   91.431530      94.502694\n",
      "11   84.652115   98.063068   94.497213      92.404132\n",
      "12   95.920178  110.840688  114.660184     107.140350\n",
      "13  114.469079  114.318523   94.994445     107.927349\n",
      "14  105.303168   90.955370  110.755445     102.337995\n",
      "15   84.482641  108.838782   94.687016      96.002813\n",
      "16  105.036178   98.174588   86.836862      96.682543\n",
      "17  105.955074  102.977915  107.920910     105.617966\n",
      "18   97.577915   97.785985  119.960365     105.108088\n",
      "19  105.635542   98.986286   85.503976      96.708601\n",
      "20  101.498218  110.054846  101.138110     104.230391\n"
     ]
    }
   ],
   "source": [
    "# seu código aqui\n",
    "df['Media_Colunas'] = df[['x1', 'x2', 'x3']].mean(axis=1)\n",
    "\n",
    "print(df)"
   ]
  },
  {
   "cell_type": "markdown",
   "metadata": {},
   "source": [
    "#### 7) No DataFrame do exercício 6, crie uma nova coluna chamada \"log_med\", contendo o logaritmo natural da média calculada no exercício 6 <br>"
   ]
  },
  {
   "cell_type": "code",
   "execution_count": 26,
   "metadata": {},
   "outputs": [
    {
     "name": "stdout",
     "output_type": "stream",
     "text": [
      "            x1          x2          x3  Media_Colunas   log_med\n",
      "1    86.329114  105.244902   95.138175      95.570730  4.559867\n",
      "2    96.224418   83.490029  103.314883      94.343110  4.546938\n",
      "3   103.492467   95.830089   92.490379      97.270978  4.577501\n",
      "4   108.380181   80.665402   94.618383      94.554655  4.549178\n",
      "5    77.891415  104.238690  108.167471      96.765859  4.572294\n",
      "6    81.401792   85.824208  115.824524      94.350175  4.547013\n",
      "7    85.766398  102.469210  101.724735      96.653448  4.571132\n",
      "8    85.580050  110.800436   81.782559      92.721015  4.529595\n",
      "9   102.397824  100.339597   96.390530      99.709317  4.602259\n",
      "10  108.780890   83.295663   91.431530      94.502694  4.548628\n",
      "11   84.652115   98.063068   94.497213      92.404132  4.526172\n",
      "12   95.920178  110.840688  114.660184     107.140350  4.674140\n",
      "13  114.469079  114.318523   94.994445     107.927349  4.681458\n",
      "14  105.303168   90.955370  110.755445     102.337995  4.628281\n",
      "15   84.482641  108.838782   94.687016      96.002813  4.564377\n",
      "16  105.036178   98.174588   86.836862      96.682543  4.571433\n",
      "17  105.955074  102.977915  107.920910     105.617966  4.659828\n",
      "18   97.577915   97.785985  119.960365     105.108088  4.654989\n",
      "19  105.635542   98.986286   85.503976      96.708601  4.571702\n",
      "20  101.498218  110.054846  101.138110     104.230391  4.646604\n"
     ]
    }
   ],
   "source": [
    "# seu código aqui\n",
    "\n",
    "df['log_med'] = np.log(df['Media_Colunas'])\n",
    "\n",
    "print(df)"
   ]
  }
 ],
 "metadata": {
  "kernelspec": {
   "display_name": "Python 3 (ipykernel)",
   "language": "python",
   "name": "python3"
  },
  "language_info": {
   "codemirror_mode": {
    "name": "ipython",
    "version": 3
   },
   "file_extension": ".py",
   "mimetype": "text/x-python",
   "name": "python",
   "nbconvert_exporter": "python",
   "pygments_lexer": "ipython3",
   "version": "3.11.5"
  }
 },
 "nbformat": 4,
 "nbformat_minor": 4
}
